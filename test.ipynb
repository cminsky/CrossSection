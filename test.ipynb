{
 "cells": [
  {
   "cell_type": "code",
   "execution_count": 1,
   "metadata": {
    "collapsed": false
   },
   "outputs": [
    {
     "name": "stdout",
     "output_type": "stream",
     "text": [
      "HAPI version: 1.1.0.9.6\n",
      "To get the most up-to-date version please check http://hitran.org/hapi\n",
      "ATTENTION: Python versions of partition sums from TIPS-2017 are now available in HAPI code\n",
      "\n",
      "           It is free to use HAPI. If you use HAPI in your research or software development,\n",
      "           please cite it using the following reference:\n",
      "           R.V. Kochanov, I.E. Gordon, L.S. Rothman, P. Wcislo, C. Hill, J.S. Wilzewski,\n",
      "           HITRAN Application Programming Interface (HAPI): A comprehensive approach\n",
      "           to working with spectroscopic data, J. Quant. Spectrosc. Radiat. Transfer 177, 15-30 (2016)\n",
      "           DOI: 10.1016/j.jqsrt.2016.03.005\n",
      "Using data\n",
      "\n",
      "CH4\n",
      "                     Lines parsed: 313943\n",
      "O3\n",
      "                     Lines parsed: 289340\n",
      "H2\n",
      "                     Lines parsed: 3480\n",
      "C2H6\n",
      "                     Lines parsed: 54460\n",
      "CO\n",
      "                     Lines parsed: 1344\n",
      "H2O\n",
      "                     Lines parsed: 141360\n",
      "CO2\n",
      "                     Lines parsed: 173024\n",
      "N2\n",
      "                     Lines parsed: 1107\n",
      "N2O\n",
      "                     Lines parsed: 33074\n",
      "H2O_low\n",
      "                     Lines parsed: 130\n",
      "C2H2\n",
      "                     Lines parsed: 22866\n",
      "O2\n",
      "                     Lines parsed: 1897\n",
      "Done\n"
     ]
    }
   ],
   "source": [
    "from database import *"
   ]
  },
  {
   "cell_type": "code",
   "execution_count": 4,
   "metadata": {
    "collapsed": false
   },
   "outputs": [
    {
     "name": "stderr",
     "output_type": "stream",
     "text": [
      "/Users/charlotte/Dropbox (MIT)/UROP/CrossSection/hapi.py:18933: UserWarning: Big wavenumber step: possible accuracy decline\n",
      "  if OmegaStep>0.1: warn('Big wavenumber step: possible accuracy decline')\n"
     ]
    },
    {
     "name": "stdout",
     "output_type": "stream",
     "text": [
      "{'air': 1.0}\n"
     ]
    }
   ],
   "source": [
    "nu,coef = crossSection('CO2',[270,290],wavStep=1,p=1.0,T=296.0,profile='Voigt',broadeners={'air':1.0})"
   ]
  },
  {
   "cell_type": "code",
   "execution_count": 5,
   "metadata": {
    "collapsed": false
   },
   "outputs": [
    {
     "data": {
      "image/png": "[encoded data removed]",
      "text/plain": [
       "<Figure size 432x288 with 1 Axes>"
      ]
     },
     "metadata": {},
     "output_type": "display_data"
    }
   ],
   "source": [
    "plt.plot(nu,coef)\n",
    "plt.show()"
   ]
  },
  {
   "cell_type": "code",
   "execution_count": 6,
   "metadata": {
    "collapsed": false
   },
   "outputs": [
    {
     "name": "stderr",
     "output_type": "stream",
     "text": [
      "/Users/charlotte/Dropbox (MIT)/UROP/CrossSection/hapi.py:18933: UserWarning: Big wavenumber step: possible accuracy decline\n",
      "  if OmegaStep>0.1: warn('Big wavenumber step: possible accuracy decline')\n"
     ]
    },
    {
     "name": "stdout",
     "output_type": "stream",
     "text": [
      "{'air': 1.0}\n"
     ]
    },
    {
     "name": "stderr",
     "output_type": "stream",
     "text": [
      "/Users/charlotte/Dropbox (MIT)/UROP/CrossSection/hapi.py:18933: UserWarning: Big wavenumber step: possible accuracy decline\n",
      "  if OmegaStep>0.1: warn('Big wavenumber step: possible accuracy decline')\n"
     ]
    },
    {
     "name": "stdout",
     "output_type": "stream",
     "text": [
      "{'air': 1.0}\n"
     ]
    },
    {
     "name": "stderr",
     "output_type": "stream",
     "text": [
      "/Users/charlotte/Dropbox (MIT)/UROP/CrossSection/hapi.py:18933: UserWarning: Big wavenumber step: possible accuracy decline\n",
      "  if OmegaStep>0.1: warn('Big wavenumber step: possible accuracy decline')\n"
     ]
    },
    {
     "name": "stdout",
     "output_type": "stream",
     "text": [
      "{'air': 1.0}\n"
     ]
    },
    {
     "name": "stderr",
     "output_type": "stream",
     "text": [
      "/Users/charlotte/Dropbox (MIT)/UROP/CrossSection/hapi.py:18933: UserWarning: Big wavenumber step: possible accuracy decline\n",
      "  if OmegaStep>0.1: warn('Big wavenumber step: possible accuracy decline')\n"
     ]
    },
    {
     "name": "stdout",
     "output_type": "stream",
     "text": [
      "{'air': 1.0}\n"
     ]
    }
   ],
   "source": [
    "db = databaseGen(molSet=['CO2'],\n",
    "                 wavRange=[2040.,2041.],wavStep=1,\n",
    "                 tRange=[295,296],tStep=1,\n",
    "                 pRange=[1,2],pStep=1,\n",
    "                 profile='Voigt',\n",
    "                 broadeners={'air':1.0})"
   ]
  },
  {
   "cell_type": "code",
   "execution_count": 7,
   "metadata": {
    "collapsed": false
   },
   "outputs": [
    {
     "name": "stdout",
     "output_type": "stream",
     "text": [
      "{'p_vec': array([1, 2]), 'wavs': array([ 2040.,  2041.]), 'sigma': array([[[[  2.63695850e-23,   2.77247530e-23]],\n",
      "\n",
      "        [[  2.57226222e-21,   2.59211602e-21]]],\n",
      "\n",
      "\n",
      "       [[[  2.66403207e-23,   2.79632556e-23]],\n",
      "\n",
      "        [[  2.55890772e-21,   2.58562538e-21]]]]), 't_vec': array([295, 296]), 'mols': ['CO2']}\n"
     ]
    }
   ],
   "source": [
    "print(db)"
   ]
  },
  {
   "cell_type": "code",
   "execution_count": 8,
   "metadata": {
    "collapsed": false
   },
   "outputs": [
    {
     "name": "stdout",
     "output_type": "stream",
     "text": [
      "(2, 2, 1, 2)\n"
     ]
    }
   ],
   "source": [
    "print(db['sigma'].shape)"
   ]
  },
  {
   "cell_type": "code",
   "execution_count": 10,
   "metadata": {
    "collapsed": false
   },
   "outputs": [],
   "source": [
    "with open('test_db.p', 'wb') as handle:\n",
    "    pickle.dump(db, handle, protocol=pickle.HIGHEST_PROTOCOL)"
   ]
  },
  {
   "cell_type": "code",
   "execution_count": 12,
   "metadata": {
    "collapsed": false
   },
   "outputs": [],
   "source": [
    "with open('test_db.p', 'rb') as handle:\n",
    "    test_open = pickle.load(handle)"
   ]
  },
  {
   "cell_type": "code",
   "execution_count": 13,
   "metadata": {
    "collapsed": false
   },
   "outputs": [
    {
     "name": "stdout",
     "output_type": "stream",
     "text": [
      "{'p_vec': array([1, 2]), 'wavs': array([ 2040.,  2041.]), 'sigma': array([[[[  2.63695850e-23,   2.77247530e-23]],\n",
      "\n",
      "        [[  2.57226222e-21,   2.59211602e-21]]],\n",
      "\n",
      "\n",
      "       [[[  2.66403207e-23,   2.79632556e-23]],\n",
      "\n",
      "        [[  2.55890772e-21,   2.58562538e-21]]]]), 't_vec': array([295, 296]), 'mols': ['CO2']}\n"
     ]
    }
   ],
   "source": [
    "print(test_open)"
   ]
  },
  {
   "cell_type": "code",
   "execution_count": null,
   "metadata": {
    "collapsed": true
   },
   "outputs": [],
   "source": []
  }
 ],
 "metadata": {
  "anaconda-cloud": {},
  "kernelspec": {
   "display_name": "Python [conda root]",
   "language": "python",
   "name": "conda-root-py"
  },
  "language_info": {
   "codemirror_mode": {
    "name": "ipython",
    "version": 3
   },
   "file_extension": ".py",
   "mimetype": "text/x-python",
   "name": "python",
   "nbconvert_exporter": "python",
   "pygments_lexer": "ipython3",
   "version": "3.5.6"
  }
 },
 "nbformat": 4,
 "nbformat_minor": 1
}
