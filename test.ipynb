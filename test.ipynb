{
 "cells": [
  {
   "cell_type": "code",
   "execution_count": 4,
   "metadata": {
    "collapsed": false
   },
   "outputs": [
    {
     "name": "stdout",
     "output_type": "stream",
     "text": [
      "HAPI version: 1.1.0.9.6\n",
      "To get the most up-to-date version please check http://hitran.org/hapi\n",
      "ATTENTION: Python versions of partition sums from TIPS-2017 are now available in HAPI code\n",
      "\n",
      "           It is free to use HAPI. If you use HAPI in your research or software development,\n",
      "           please cite it using the following reference:\n",
      "           R.V. Kochanov, I.E. Gordon, L.S. Rothman, P. Wcislo, C. Hill, J.S. Wilzewski,\n",
      "           HITRAN Application Programming Interface (HAPI): A comprehensive approach\n",
      "           to working with spectroscopic data, J. Quant. Spectrosc. Radiat. Transfer 177, 15-30 (2016)\n",
      "           DOI: 10.1016/j.jqsrt.2016.03.005\n"
     ]
    }
   ],
   "source": [
    "from hapi import *\n",
    "import numpy as np\n",
    "import matplotlib as plt\n",
    "import pickle"
   ]
  },
  {
   "cell_type": "code",
   "execution_count": 5,
   "metadata": {
    "collapsed": false
   },
   "outputs": [
    {
     "name": "stdout",
     "output_type": "stream",
     "text": [
      "Using data\n",
      "\n",
      "CH4\n",
      "                     Lines parsed: 20131\n",
      "O3\n",
      "                     Lines parsed: 25367\n",
      "H2\n",
      "                     Lines parsed: 121\n",
      "H2O\n",
      "                     Lines parsed: 7535\n",
      "CO2\n",
      "                     Lines parsed: 29269\n",
      "O2\n",
      "                     Lines parsed: 489\n"
     ]
    }
   ],
   "source": [
    "db_begin('data')\n",
    "\n",
    "AllParamGroups = ['160-char','Standard','LineMixing',\n",
    "                  'Voigt','SDVoigt','Galatry']\n",
    "\n",
    "wavMin,wavMax = 3400,4100"
   ]
  },
  {
   "cell_type": "code",
   "execution_count": 6,
   "metadata": {
    "collapsed": false
   },
   "outputs": [
    {
     "name": "stdout",
     "output_type": "stream",
     "text": [
      "\n",
      "Data is fetched from http://hitran.org\n",
      "\n",
      "BEGIN DOWNLOAD: H2O\n",
      "  65536 bytes written to data/H2O.data\n",
      "  65536 bytes written to data/H2O.data\n",
      "  65536 bytes written to data/H2O.data\n",
      "  65536 bytes written to data/H2O.data\n",
      "  65536 bytes written to data/H2O.data\n",
      "  65536 bytes written to data/H2O.data\n",
      "  65536 bytes written to data/H2O.data\n",
      "  65536 bytes written to data/H2O.data\n",
      "  65536 bytes written to data/H2O.data\n",
      "  65536 bytes written to data/H2O.data\n",
      "  65536 bytes written to data/H2O.data\n",
      "  65536 bytes written to data/H2O.data\n",
      "  65536 bytes written to data/H2O.data\n",
      "  65536 bytes written to data/H2O.data\n",
      "  65536 bytes written to data/H2O.data\n",
      "  65536 bytes written to data/H2O.data\n",
      "  65536 bytes written to data/H2O.data\n",
      "  65536 bytes written to data/H2O.data\n",
      "  65536 bytes written to data/H2O.data\n",
      "Header written to data/H2O.header\n",
      "END DOWNLOAD\n",
      "                     Lines parsed: 7535\n",
      "PROCESSED\n",
      "\n",
      "Data is fetched from http://hitran.org\n",
      "\n",
      "BEGIN DOWNLOAD: CO2\n",
      "  65536 bytes written to data/CO2.data\n",
      "  65536 bytes written to data/CO2.data\n",
      "  65536 bytes written to data/CO2.data\n",
      "  65536 bytes written to data/CO2.data\n",
      "  65536 bytes written to data/CO2.data\n",
      "  65536 bytes written to data/CO2.data\n",
      "  65536 bytes written to data/CO2.data\n",
      "  65536 bytes written to data/CO2.data\n",
      "  65536 bytes written to data/CO2.data\n",
      "  65536 bytes written to data/CO2.data\n",
      "  65536 bytes written to data/CO2.data\n",
      "  65536 bytes written to data/CO2.data\n",
      "  65536 bytes written to data/CO2.data\n",
      "  65536 bytes written to data/CO2.data\n",
      "  65536 bytes written to data/CO2.data\n",
      "  65536 bytes written to data/CO2.data\n",
      "  65536 bytes written to data/CO2.data\n",
      "  65536 bytes written to data/CO2.data\n",
      "  65536 bytes written to data/CO2.data\n",
      "  65536 bytes written to data/CO2.data\n",
      "  65536 bytes written to data/CO2.data\n",
      "  65536 bytes written to data/CO2.data\n",
      "  65536 bytes written to data/CO2.data\n",
      "  65536 bytes written to data/CO2.data\n",
      "  65536 bytes written to data/CO2.data\n",
      "  65536 bytes written to data/CO2.data\n",
      "  65536 bytes written to data/CO2.data\n",
      "  65536 bytes written to data/CO2.data\n",
      "  65536 bytes written to data/CO2.data\n",
      "  65536 bytes written to data/CO2.data\n",
      "  65536 bytes written to data/CO2.data\n",
      "  65536 bytes written to data/CO2.data\n",
      "  65536 bytes written to data/CO2.data\n",
      "  65536 bytes written to data/CO2.data\n",
      "  65536 bytes written to data/CO2.data\n",
      "  65536 bytes written to data/CO2.data\n",
      "  65536 bytes written to data/CO2.data\n",
      "  65536 bytes written to data/CO2.data\n",
      "  65536 bytes written to data/CO2.data\n",
      "  65536 bytes written to data/CO2.data\n",
      "  65536 bytes written to data/CO2.data\n",
      "  65536 bytes written to data/CO2.data\n",
      "  65536 bytes written to data/CO2.data\n",
      "  65536 bytes written to data/CO2.data\n",
      "  65536 bytes written to data/CO2.data\n",
      "  65536 bytes written to data/CO2.data\n",
      "  65536 bytes written to data/CO2.data\n",
      "  65536 bytes written to data/CO2.data\n",
      "  65536 bytes written to data/CO2.data\n",
      "  65536 bytes written to data/CO2.data\n",
      "  65536 bytes written to data/CO2.data\n",
      "  65536 bytes written to data/CO2.data\n",
      "  65536 bytes written to data/CO2.data\n",
      "  65536 bytes written to data/CO2.data\n",
      "  65536 bytes written to data/CO2.data\n",
      "  65536 bytes written to data/CO2.data\n",
      "  65536 bytes written to data/CO2.data\n",
      "  65536 bytes written to data/CO2.data\n",
      "  65536 bytes written to data/CO2.data\n",
      "  65536 bytes written to data/CO2.data\n",
      "  65536 bytes written to data/CO2.data\n",
      "  65536 bytes written to data/CO2.data\n",
      "  65536 bytes written to data/CO2.data\n",
      "  65536 bytes written to data/CO2.data\n",
      "  65536 bytes written to data/CO2.data\n",
      "  65536 bytes written to data/CO2.data\n",
      "  65536 bytes written to data/CO2.data\n",
      "  65536 bytes written to data/CO2.data\n",
      "  65536 bytes written to data/CO2.data\n",
      "  65536 bytes written to data/CO2.data\n",
      "  65536 bytes written to data/CO2.data\n",
      "  65536 bytes written to data/CO2.data\n",
      "  65536 bytes written to data/CO2.data\n",
      "Header written to data/CO2.header\n",
      "END DOWNLOAD\n",
      "                     Lines parsed: 29269\n",
      "PROCESSED\n"
     ]
    }
   ],
   "source": [
    "fetch('H2O',1,1,wavMin,wavMax)\n",
    "fetch('CO2',2,1,wavMin,wavMax)"
   ]
  },
  {
   "cell_type": "code",
   "execution_count": 7,
   "metadata": {
    "collapsed": false
   },
   "outputs": [
    {
     "name": "stdout",
     "output_type": "stream",
     "text": [
      "\n",
      "Data is fetched from http://hitran.org\n",
      "\n",
      "BEGIN DOWNLOAD: O3\n",
      "  65536 bytes written to data/O3.data\n",
      "  65536 bytes written to data/O3.data\n",
      "  65536 bytes written to data/O3.data\n",
      "  65536 bytes written to data/O3.data\n",
      "  65536 bytes written to data/O3.data\n",
      "  65536 bytes written to data/O3.data\n",
      "  65536 bytes written to data/O3.data\n",
      "  65536 bytes written to data/O3.data\n",
      "  65536 bytes written to data/O3.data\n",
      "  65536 bytes written to data/O3.data\n",
      "  65536 bytes written to data/O3.data\n",
      "  65536 bytes written to data/O3.data\n",
      "  65536 bytes written to data/O3.data\n",
      "  65536 bytes written to data/O3.data\n",
      "  65536 bytes written to data/O3.data\n",
      "  65536 bytes written to data/O3.data\n",
      "  65536 bytes written to data/O3.data\n",
      "  65536 bytes written to data/O3.data\n",
      "  65536 bytes written to data/O3.data\n",
      "  65536 bytes written to data/O3.data\n",
      "  65536 bytes written to data/O3.data\n",
      "  65536 bytes written to data/O3.data\n",
      "  65536 bytes written to data/O3.data\n",
      "  65536 bytes written to data/O3.data\n",
      "  65536 bytes written to data/O3.data\n",
      "  65536 bytes written to data/O3.data\n",
      "  65536 bytes written to data/O3.data\n",
      "  65536 bytes written to data/O3.data\n",
      "  65536 bytes written to data/O3.data\n",
      "  65536 bytes written to data/O3.data\n",
      "  65536 bytes written to data/O3.data\n",
      "  65536 bytes written to data/O3.data\n",
      "  65536 bytes written to data/O3.data\n",
      "  65536 bytes written to data/O3.data\n",
      "  65536 bytes written to data/O3.data\n",
      "  65536 bytes written to data/O3.data\n",
      "  65536 bytes written to data/O3.data\n",
      "  65536 bytes written to data/O3.data\n",
      "  65536 bytes written to data/O3.data\n",
      "  65536 bytes written to data/O3.data\n",
      "  65536 bytes written to data/O3.data\n",
      "  65536 bytes written to data/O3.data\n",
      "  65536 bytes written to data/O3.data\n",
      "  65536 bytes written to data/O3.data\n",
      "  65536 bytes written to data/O3.data\n",
      "  65536 bytes written to data/O3.data\n",
      "  65536 bytes written to data/O3.data\n",
      "  65536 bytes written to data/O3.data\n",
      "  65536 bytes written to data/O3.data\n",
      "  65536 bytes written to data/O3.data\n",
      "  65536 bytes written to data/O3.data\n",
      "  65536 bytes written to data/O3.data\n",
      "  65536 bytes written to data/O3.data\n",
      "  65536 bytes written to data/O3.data\n",
      "  65536 bytes written to data/O3.data\n",
      "  65536 bytes written to data/O3.data\n",
      "  65536 bytes written to data/O3.data\n",
      "  65536 bytes written to data/O3.data\n",
      "  65536 bytes written to data/O3.data\n",
      "  65536 bytes written to data/O3.data\n",
      "  65536 bytes written to data/O3.data\n",
      "  65536 bytes written to data/O3.data\n",
      "  65536 bytes written to data/O3.data\n",
      "Header written to data/O3.header\n",
      "END DOWNLOAD\n",
      "                     Lines parsed: 25367\n",
      "PROCESSED\n",
      "\n",
      "Data is fetched from http://hitran.org\n",
      "\n",
      "BEGIN DOWNLOAD: CH4\n",
      "  65536 bytes written to data/CH4.data\n",
      "  65536 bytes written to data/CH4.data\n",
      "  65536 bytes written to data/CH4.data\n",
      "  65536 bytes written to data/CH4.data\n",
      "  65536 bytes written to data/CH4.data\n",
      "  65536 bytes written to data/CH4.data\n",
      "  65536 bytes written to data/CH4.data\n",
      "  65536 bytes written to data/CH4.data\n",
      "  65536 bytes written to data/CH4.data\n",
      "  65536 bytes written to data/CH4.data\n",
      "  65536 bytes written to data/CH4.data\n",
      "  65536 bytes written to data/CH4.data\n",
      "  65536 bytes written to data/CH4.data\n",
      "  65536 bytes written to data/CH4.data\n",
      "  65536 bytes written to data/CH4.data\n",
      "  65536 bytes written to data/CH4.data\n",
      "  65536 bytes written to data/CH4.data\n",
      "  65536 bytes written to data/CH4.data\n",
      "  65536 bytes written to data/CH4.data\n",
      "  65536 bytes written to data/CH4.data\n",
      "  65536 bytes written to data/CH4.data\n",
      "  65536 bytes written to data/CH4.data\n",
      "  65536 bytes written to data/CH4.data\n",
      "  65536 bytes written to data/CH4.data\n",
      "  65536 bytes written to data/CH4.data\n",
      "  65536 bytes written to data/CH4.data\n",
      "  65536 bytes written to data/CH4.data\n",
      "  65536 bytes written to data/CH4.data\n",
      "  65536 bytes written to data/CH4.data\n",
      "  65536 bytes written to data/CH4.data\n",
      "  65536 bytes written to data/CH4.data\n",
      "  65536 bytes written to data/CH4.data\n",
      "  65536 bytes written to data/CH4.data\n",
      "  65536 bytes written to data/CH4.data\n",
      "  65536 bytes written to data/CH4.data\n",
      "  65536 bytes written to data/CH4.data\n",
      "  65536 bytes written to data/CH4.data\n",
      "  65536 bytes written to data/CH4.data\n",
      "  65536 bytes written to data/CH4.data\n",
      "  65536 bytes written to data/CH4.data\n",
      "  65536 bytes written to data/CH4.data\n",
      "  65536 bytes written to data/CH4.data\n",
      "  65536 bytes written to data/CH4.data\n",
      "  65536 bytes written to data/CH4.data\n",
      "  65536 bytes written to data/CH4.data\n",
      "  65536 bytes written to data/CH4.data\n",
      "  65536 bytes written to data/CH4.data\n",
      "  65536 bytes written to data/CH4.data\n",
      "  65536 bytes written to data/CH4.data\n",
      "  65536 bytes written to data/CH4.data\n",
      "Header written to data/CH4.header\n",
      "END DOWNLOAD\n",
      "                     Lines parsed: 20131\n",
      "PROCESSED\n"
     ]
    }
   ],
   "source": [
    "fetch('O3',3,1,wavMin,wavMax)\n",
    "fetch('CH4',6,1,wavMin,wavMax)"
   ]
  },
  {
   "cell_type": "code",
   "execution_count": 8,
   "metadata": {
    "collapsed": false
   },
   "outputs": [
    {
     "name": "stdout",
     "output_type": "stream",
     "text": [
      "\n",
      "Data is fetched from http://hitran.org\n",
      "\n",
      "BEGIN DOWNLOAD: H2\n",
      "  65536 bytes written to data/H2.data\n",
      "Header written to data/H2.header\n",
      "END DOWNLOAD\n",
      "                     Lines parsed: 121\n",
      "PROCESSED\n"
     ]
    }
   ],
   "source": [
    "#fetch('N2',22,1,wavMin,wavMax)\n",
    "fetch('H2',45,1,wavMin,wavMax)"
   ]
  },
  {
   "cell_type": "code",
   "execution_count": 9,
   "metadata": {
    "collapsed": true
   },
   "outputs": [],
   "source": [
    "molDict = {1:'H2O',2:'CO2',3:'O3',\n",
    "            6:'CH4',22:'N2',45:'H2'}"
   ]
  },
  {
   "cell_type": "code",
   "execution_count": 10,
   "metadata": {
    "collapsed": true
   },
   "outputs": [],
   "source": [
    "def crossSection(molSet,p=1.0,T=296.0,profile='Voigt',gamma='air'):\n",
    "    # wavRange = wavenumber tuple min, max\n",
    "    # molSet = list of tables\n",
    "    # envir = pressure temp dict\n",
    "    # profile = coeff calculator\n",
    "    # gamma = self, air, etc\n",
    "    if profile in ['HT','Voigt','Lorentz','Doppler']:\n",
    "        func = eval('absorptionCoefficient_'+profile)\n",
    "    else:\n",
    "        raise ValueError('Line shape must be HT, Voigt, Lorentz, or Doppler.')\n",
    "    if gamma in ['air','self']:\n",
    "        gL = 'gamma_'+gamma\n",
    "    envir = {'p':p,'T':T}\n",
    "    nu,coef = func(SourceTables=molSet,Environment=envir,GammaL=gL)\n",
    "    return (nu,coef)"
   ]
  },
  {
   "cell_type": "code",
   "execution_count": 11,
   "metadata": {
    "collapsed": false
   },
   "outputs": [
    {
     "name": "stdout",
     "output_type": "stream",
     "text": [
      "{'air': 1.0}\n",
      "{'air': 1.0}\n",
      "{'air': 1.0}\n",
      "{'air': 1.0}\n",
      "1 loop, best of 3: 12.5 s per loop\n"
     ]
    }
   ],
   "source": [
    "%timeit crossSection([molDict[1]],p=1.0,T=296.0,profile='Voigt',gamma='air')"
   ]
  },
  {
   "cell_type": "code",
   "execution_count": 12,
   "metadata": {
    "collapsed": true
   },
   "outputs": [],
   "source": [
    "def databaseGen(tRange,tStep,pRange,pStep,compList,pickleSave=True):\n",
    "    # tRange, pRange = temp and pressure tuples with min, max\n",
    "    # tRange, pStep = temp and presure step size\n",
    "    # compList = list of molecule numbers\n",
    "    tArange = np.arange(tRange[0],tRange[1]+tStep,tStep)\n",
    "    pArange = np.arange(pRange[0],pRange[1]+pStep,pStep)\n",
    "    wavNums = len(crossSection([molDict[compList[1]]])[0])\n",
    "    db = np.empty((len(tArange),len(pArange),len(compList),wavNums))\n",
    "    for t in range(len(db)):\n",
    "        tVal = tArange[t]\n",
    "        for p in range(len(db[t])):\n",
    "            pVal = pArange[p]\n",
    "            for c in range(len(db[t][p])):\n",
    "                cVal = compList[c]\n",
    "                mol = molDict[cVal]\n",
    "                nu,coef = crossSection([mol],p=pVal,T=tVal)\n",
    "                db[t][p][c] = coef\n",
    "    if pickleSave:\n",
    "        filename = 'db'+str(tRange[0])+str(tRange[1])+str(tStep)+str(pRange[0])+str(pRange[1])+str(pStep)\n",
    "        outfile = open(filename,'wb')\n",
    "        pickle.dump(db,outfile)\n",
    "        outfile.close()\n",
    "    return db"
   ]
  },
  {
   "cell_type": "code",
   "execution_count": null,
   "metadata": {
    "collapsed": false
   },
   "outputs": [],
   "source": [
    "tRange=(100,300)\n",
    "tStep=100\n",
    "pRange=(1,3)\n",
    "pStep=1\n",
    "compList=[1]\n",
    "res = databaseGen(tRange,tStep,pRange,pStep,compList)"
   ]
  },
  {
   "cell_type": "code",
   "execution_count": null,
   "metadata": {
    "collapsed": false
   },
   "outputs": [],
   "source": [
    "nu = crossSection([molDict[1]],p=1.0,T=296.0,profile='Voigt',gamma='air')\n",
    "res.shape"
   ]
  },
  {
   "cell_type": "code",
   "execution_count": null,
   "metadata": {
    "collapsed": true
   },
   "outputs": [],
   "source": []
  }
 ],
 "metadata": {
  "anaconda-cloud": {},
  "kernelspec": {
   "display_name": "Python [conda root]",
   "language": "python",
   "name": "conda-root-py"
  },
  "language_info": {
   "codemirror_mode": {
    "name": "ipython",
    "version": 3
   },
   "file_extension": ".py",
   "mimetype": "text/x-python",
   "name": "python",
   "nbconvert_exporter": "python",
   "pygments_lexer": "ipython3",
   "version": "3.5.6"
  }
 },
 "nbformat": 4,
 "nbformat_minor": 1
}
